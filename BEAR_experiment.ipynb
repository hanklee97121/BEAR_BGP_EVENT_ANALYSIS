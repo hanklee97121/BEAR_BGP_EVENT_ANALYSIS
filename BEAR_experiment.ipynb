{
 "cells": [
  {
   "cell_type": "code",
   "execution_count": null,
   "id": "32c2ff6f-1183-4269-bbd6-6c8916d8abf1",
   "metadata": {},
   "outputs": [],
   "source": [
    "import pandas as pd\n",
    "from BEAR import BEAR"
   ]
  },
  {
   "cell_type": "code",
   "execution_count": null,
   "id": "90d8b758-161c-4ba9-a621-20c6f7a69330",
   "metadata": {
    "scrolled": true
   },
   "outputs": [],
   "source": [
    "# run this cell if you want to see details of each event\n",
    "a = pd.read_csv('Data/BGP_explain_data.csv', na_filter=False)\n",
    "a"
   ]
  },
  {
   "cell_type": "code",
   "execution_count": null,
   "id": "19d57ab9-fb7a-40ca-97ee-e4af9730964a",
   "metadata": {
    "scrolled": true
   },
   "outputs": [],
   "source": [
    "data = 'Data/BGP_explain_data.csv' #path to event data\n",
    "rcc_collector_lists = [\"rrc00\", \"rrc01\", \"rrc03\", \"rrc04\", \"rrc05\", \"rrc06\", \"rrc07\", \"rrc10\", \"rrc11\", \"rrc12\", \"rrc10\", \"rrc11\",\n",
    "                      \"rrc12\", \"rrc13\", \"rrc14\", \"rrc15\", \"rrc16\", \"rrc17\", \"rrc18\", \"rrc19\", \"rrc20\", \"rrc21\", \"rrc22\", \"rrc23\",\n",
    "                      \"rrc24\", \"rrc25\", \"rrc26\"] #since we use rcc, the collector list includes all rcc collectors\n",
    "#initialize generator, need to download e_1 for reading BGP data. remember to change the save path to where you want to save the results\n",
    "#if change llm to non-openai llm, remember to change functions in LLM_module.py.\n",
    "generator = BEAR(collector_list=rcc_collector_lists, model = \"gpt-4o\", project = \"rcc\", save_path = \"e_8/\", read_path = \"e_1/\")\n",
    "#generate event report\n",
    "generator.generate_multi_event(data)"
   ]
  },
  {
   "cell_type": "code",
   "execution_count": null,
   "id": "c52cdf8b-cb39-45a1-ba93-7300899cd4f2",
   "metadata": {},
   "outputs": [],
   "source": [
    "#To generate report for your customized BGP anomaly event, you can use generate_single_event function after initializing\n",
    "#the BEAR generator\n",
    "\n",
    "#generator.generate_single_event(self, start_time, file_save_prefix=\"\", IP=None, AS=None, end_time=None, Event_Type=None)\n",
    "#Must provide event start time, report save prefix, target IP\n",
    "#AS and Event_Type are not used in current BEAR generator so you don't have to provide it\n",
    "#end_time is optional"
   ]
  }
 ],
 "metadata": {
  "kernelspec": {
   "display_name": "Python 3 (ipykernel)",
   "language": "python",
   "name": "python3"
  },
  "language_info": {
   "codemirror_mode": {
    "name": "ipython",
    "version": 3
   },
   "file_extension": ".py",
   "mimetype": "text/x-python",
   "name": "python",
   "nbconvert_exporter": "python",
   "pygments_lexer": "ipython3",
   "version": "3.8.10"
  }
 },
 "nbformat": 4,
 "nbformat_minor": 5
}

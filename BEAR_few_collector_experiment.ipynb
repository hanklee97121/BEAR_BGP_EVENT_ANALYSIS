{
 "cells": [
  {
   "cell_type": "code",
   "execution_count": null,
   "id": "de592abb-4544-4ae5-ab29-386316841893",
   "metadata": {},
   "outputs": [],
   "source": [
    "import pandas as pd\n",
    "from BEAR_few_collector import BEAR_few_collector"
   ]
  },
  {
   "cell_type": "code",
   "execution_count": null,
   "id": "90d8b758-161c-4ba9-a621-20c6f7a69330",
   "metadata": {},
   "outputs": [],
   "source": [
    "# run this cell if you want to see details of each event\n",
    "a = pd.read_csv('Data/BGP_explain_data.csv', na_filter=False)\n",
    "a"
   ]
  },
  {
   "cell_type": "code",
   "execution_count": null,
   "id": "be01ff73-7cbc-4732-b1c9-30f347034fff",
   "metadata": {},
   "outputs": [],
   "source": [
    "data = 'Data/BGP_explain_data.csv' #path to event data\n",
    "rcc_collector_lists = [\"rrc00\", \"rrc01\", \"rrc03\", \"rrc04\", \"rrc05\", \"rrc06\", \"rrc07\", \"rrc10\", \"rrc11\", \"rrc12\", \"rrc10\", \"rrc11\",\n",
    "                      \"rrc12\", \"rrc13\", \"rrc14\", \"rrc15\", \"rrc16\", \"rrc17\", \"rrc18\", \"rrc19\", \"rrc20\", \"rrc21\", \"rrc22\", \"rrc23\",\n",
    "                      \"rrc24\", \"rrc25\", \"rrc26\"] #since we use rcc, the collector list includes all rcc collectors\n",
    "#initialize generator, need to download e_1 for reading BGP data. remember to change the save path to where you want to save the results\n",
    "#if change llm to non-openai llm, remember to change functions in LLM_module.py.\n",
    "#n_collector controls how many random collector's data to include\n",
    "generator = BEAR_few_collector(collector_list=rcc_collector_lists, model = \"gpt-4o\", project = \"rcc\", save_path = \"e_8/\", read_path = \"e_1/\", n_collector=1)\n",
    "#generate event report\n",
    "generator.generate_multi_event(data)"
   ]
  }
 ],
 "metadata": {
  "kernelspec": {
   "display_name": "Python 3 (ipykernel)",
   "language": "python",
   "name": "python3"
  },
  "language_info": {
   "codemirror_mode": {
    "name": "ipython",
    "version": 3
   },
   "file_extension": ".py",
   "mimetype": "text/x-python",
   "name": "python",
   "nbconvert_exporter": "python",
   "pygments_lexer": "ipython3",
   "version": "3.8.10"
  }
 },
 "nbformat": 4,
 "nbformat_minor": 5
}

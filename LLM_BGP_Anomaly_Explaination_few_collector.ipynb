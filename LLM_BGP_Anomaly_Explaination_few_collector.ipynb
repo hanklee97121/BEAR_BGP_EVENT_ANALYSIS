{
 "cells": [
  {
   "cell_type": "code",
   "execution_count": 1,
   "id": "de592abb-4544-4ae5-ab29-386316841893",
   "metadata": {},
   "outputs": [
    {
     "name": "stderr",
     "output_type": "stream",
     "text": [
      "/usr/local/lib/python3.8/dist-packages/transformers/utils/generic.py:441: UserWarning: torch.utils._pytree._register_pytree_node is deprecated. Please use torch.utils._pytree.register_pytree_node instead.\n",
      "  _torch_pytree._register_pytree_node(\n",
      "/usr/local/lib/python3.8/dist-packages/transformers/utils/generic.py:309: UserWarning: torch.utils._pytree._register_pytree_node is deprecated. Please use torch.utils._pytree.register_pytree_node instead.\n",
      "  _torch_pytree._register_pytree_node(\n"
     ]
    }
   ],
   "source": [
    "#read two dictionary of as paths to a certain IP prefix and ask LLM for BGP Event Report\n",
    "import pybgpstream\n",
    "import networkx as nx\n",
    "from itertools import groupby\n",
    "from collections import defaultdict\n",
    "import matplotlib.pyplot as plt\n",
    "import openai\n",
    "import os\n",
    "import re\n",
    "import spacy\n",
    "import collections\n",
    "import numpy as np\n",
    "import copy\n",
    "import time\n",
    "import evaluate\n",
    "from tqdm.notebook import trange, tqdm\n",
    "import pandas as pd\n",
    "import json\n",
    "import random\n",
    "from datetime import datetime, timedelta\n",
    "openai.api_key = \"Your OPENAI Key\"\n",
    "os.environ[\"OPENAI_API_KEY\"] = \"Your OPENAI Key\""
   ]
  },
  {
   "cell_type": "code",
   "execution_count": 2,
   "id": "90d8b758-161c-4ba9-a621-20c6f7a69330",
   "metadata": {},
   "outputs": [
    {
     "data": {
      "text/html": [
       "<div>\n",
       "<style scoped>\n",
       "    .dataframe tbody tr th:only-of-type {\n",
       "        vertical-align: middle;\n",
       "    }\n",
       "\n",
       "    .dataframe tbody tr th {\n",
       "        vertical-align: top;\n",
       "    }\n",
       "\n",
       "    .dataframe thead th {\n",
       "        text-align: right;\n",
       "    }\n",
       "</style>\n",
       "<table border=\"1\" class=\"dataframe\">\n",
       "  <thead>\n",
       "    <tr style=\"text-align: right;\">\n",
       "      <th></th>\n",
       "      <th>Event Type</th>\n",
       "      <th>AS</th>\n",
       "      <th>AS2</th>\n",
       "      <th>IP</th>\n",
       "      <th>Start</th>\n",
       "      <th>End</th>\n",
       "      <th>Event Name</th>\n",
       "      <th>More info</th>\n",
       "    </tr>\n",
       "  </thead>\n",
       "  <tbody>\n",
       "    <tr>\n",
       "      <th>0</th>\n",
       "      <td>Hijack</td>\n",
       "      <td>15169</td>\n",
       "      <td>174</td>\n",
       "      <td>64.233.161.0/24</td>\n",
       "      <td>2005-05-07 14:37:56</td>\n",
       "      <td>2005-05-09 10:52:00</td>\n",
       "      <td>Google Outage 2005</td>\n",
       "      <td>link</td>\n",
       "    </tr>\n",
       "    <tr>\n",
       "      <th>1</th>\n",
       "      <td>Hijack</td>\n",
       "      <td>13414</td>\n",
       "      <td>8342</td>\n",
       "      <td>104.244.42.0/24</td>\n",
       "      <td>2022-03-28 12:05:00</td>\n",
       "      <td>2022-03-28 12:50:00</td>\n",
       "      <td></td>\n",
       "      <td>link</td>\n",
       "    </tr>\n",
       "    <tr>\n",
       "      <th>2</th>\n",
       "      <td>Hijack</td>\n",
       "      <td>36561</td>\n",
       "      <td>17557</td>\n",
       "      <td>208.65.153.0/24</td>\n",
       "      <td>2008-02-24 18:49:00</td>\n",
       "      <td>2008-02-24 21:01:00</td>\n",
       "      <td>YouTube Hijacking</td>\n",
       "      <td>link</td>\n",
       "    </tr>\n",
       "    <tr>\n",
       "      <th>3</th>\n",
       "      <td>Hijack</td>\n",
       "      <td>7625</td>\n",
       "      <td>9457</td>\n",
       "      <td>211.249.216.0/21</td>\n",
       "      <td>2022-02-03 01:04:00</td>\n",
       "      <td>2022-02-03 09:01:00</td>\n",
       "      <td>KlaySwap Incident</td>\n",
       "      <td>link</td>\n",
       "    </tr>\n",
       "    <tr>\n",
       "      <th>4</th>\n",
       "      <td>Hijack</td>\n",
       "      <td>8972</td>\n",
       "      <td>55410</td>\n",
       "      <td>5.35.230.0/24</td>\n",
       "      <td>2021-04-16 13:48:00; 2021-04-16 14:25:40</td>\n",
       "      <td></td>\n",
       "      <td></td>\n",
       "      <td>link</td>\n",
       "    </tr>\n",
       "    <tr>\n",
       "      <th>5</th>\n",
       "      <td>Route Leak</td>\n",
       "      <td>22566</td>\n",
       "      <td>28548</td>\n",
       "      <td>201.157.49.0/24; 200.66.104.0/24; 201.157.29.0/24</td>\n",
       "      <td>2021-02-11 04:36:41</td>\n",
       "      <td>2021-02-11 04:48:21</td>\n",
       "      <td></td>\n",
       "      <td>link</td>\n",
       "    </tr>\n",
       "    <tr>\n",
       "      <th>6</th>\n",
       "      <td>Hijack</td>\n",
       "      <td>10990</td>\n",
       "      <td>812</td>\n",
       "      <td>99.225.224.0/19</td>\n",
       "      <td>2020-07-30 01:15:38</td>\n",
       "      <td>2020-07-30 01:19:49</td>\n",
       "      <td></td>\n",
       "      <td>link</td>\n",
       "    </tr>\n",
       "    <tr>\n",
       "      <th>7</th>\n",
       "      <td>Route Leak</td>\n",
       "      <td>1136</td>\n",
       "      <td>21217; 4134</td>\n",
       "      <td>46.145.0.0/16</td>\n",
       "      <td>2019-06-06 09:57:00</td>\n",
       "      <td>2019-06-06 11:00:00</td>\n",
       "      <td>Large European routing leak</td>\n",
       "      <td>link</td>\n",
       "    </tr>\n",
       "    <tr>\n",
       "      <th>8</th>\n",
       "      <td>Hijack</td>\n",
       "      <td></td>\n",
       "      <td>268869</td>\n",
       "      <td>101.101.101.0/24</td>\n",
       "      <td>2019-05-08 15:08:00</td>\n",
       "      <td>2019-05-08 15:11:42</td>\n",
       "      <td></td>\n",
       "      <td>link</td>\n",
       "    </tr>\n",
       "    <tr>\n",
       "      <th>9</th>\n",
       "      <td>Route Leak</td>\n",
       "      <td>20940</td>\n",
       "      <td>37468</td>\n",
       "      <td>2.16.0.0/13</td>\n",
       "      <td>2023-05-25 11:21:40</td>\n",
       "      <td>2023-05-25 12:41:36</td>\n",
       "      <td></td>\n",
       "      <td>link</td>\n",
       "    </tr>\n",
       "    <tr>\n",
       "      <th>10</th>\n",
       "      <td>Hijack</td>\n",
       "      <td>16509</td>\n",
       "      <td>10297</td>\n",
       "      <td>205.251.192.0/23</td>\n",
       "      <td>2018-04-24 11:05:00</td>\n",
       "      <td></td>\n",
       "      <td></td>\n",
       "      <td>link</td>\n",
       "    </tr>\n",
       "    <tr>\n",
       "      <th>11</th>\n",
       "      <td></td>\n",
       "      <td></td>\n",
       "      <td></td>\n",
       "      <td></td>\n",
       "      <td></td>\n",
       "      <td></td>\n",
       "      <td></td>\n",
       "      <td></td>\n",
       "    </tr>\n",
       "  </tbody>\n",
       "</table>\n",
       "</div>"
      ],
      "text/plain": [
       "    Event Type     AS          AS2  \\\n",
       "0       Hijack  15169          174   \n",
       "1       Hijack  13414         8342   \n",
       "2       Hijack  36561        17557   \n",
       "3       Hijack   7625         9457   \n",
       "4       Hijack   8972        55410   \n",
       "5   Route Leak  22566        28548   \n",
       "6       Hijack  10990          812   \n",
       "7   Route Leak   1136  21217; 4134   \n",
       "8       Hijack              268869   \n",
       "9   Route Leak  20940        37468   \n",
       "10      Hijack  16509        10297   \n",
       "11                                   \n",
       "\n",
       "                                                   IP  \\\n",
       "0                                     64.233.161.0/24   \n",
       "1                                     104.244.42.0/24   \n",
       "2                                     208.65.153.0/24   \n",
       "3                                    211.249.216.0/21   \n",
       "4                                       5.35.230.0/24   \n",
       "5   201.157.49.0/24; 200.66.104.0/24; 201.157.29.0/24   \n",
       "6                                     99.225.224.0/19   \n",
       "7                                       46.145.0.0/16   \n",
       "8                                    101.101.101.0/24   \n",
       "9                                         2.16.0.0/13   \n",
       "10                                   205.251.192.0/23   \n",
       "11                                                      \n",
       "\n",
       "                                       Start                  End  \\\n",
       "0                        2005-05-07 14:37:56  2005-05-09 10:52:00   \n",
       "1                        2022-03-28 12:05:00  2022-03-28 12:50:00   \n",
       "2                        2008-02-24 18:49:00  2008-02-24 21:01:00   \n",
       "3                        2022-02-03 01:04:00  2022-02-03 09:01:00   \n",
       "4   2021-04-16 13:48:00; 2021-04-16 14:25:40                        \n",
       "5                        2021-02-11 04:36:41  2021-02-11 04:48:21   \n",
       "6                        2020-07-30 01:15:38  2020-07-30 01:19:49   \n",
       "7                        2019-06-06 09:57:00  2019-06-06 11:00:00   \n",
       "8                        2019-05-08 15:08:00  2019-05-08 15:11:42   \n",
       "9                        2023-05-25 11:21:40  2023-05-25 12:41:36   \n",
       "10                       2018-04-24 11:05:00                        \n",
       "11                                                                  \n",
       "\n",
       "                     Event Name More info  \n",
       "0            Google Outage 2005      link  \n",
       "1                                    link  \n",
       "2             YouTube Hijacking      link  \n",
       "3            KlaySwap Incident       link  \n",
       "4                                    link  \n",
       "5                                    link  \n",
       "6                                    link  \n",
       "7   Large European routing leak      link  \n",
       "8                                    link  \n",
       "9                                    link  \n",
       "10                                   link  \n",
       "11                                         "
      ]
     },
     "execution_count": 2,
     "metadata": {},
     "output_type": "execute_result"
    }
   ],
   "source": [
    "a = pd.read_csv('Data/BGP_explain_data.csv', na_filter=False)\n",
    "a"
   ]
  },
  {
   "cell_type": "code",
   "execution_count": 9,
   "id": "83caf406-92d3-4154-98fc-9cf0058a792d",
   "metadata": {},
   "outputs": [
    {
     "data": {
      "text/plain": [
       "['rrc07']"
      ]
     },
     "execution_count": 9,
     "metadata": {},
     "output_type": "execute_result"
    }
   ],
   "source": [
    "rcc_collector_lists = [\"rrc00\", \"rrc01\", \"rrc03\", \"rrc04\", \"rrc05\", \"rrc06\", \"rrc07\", \"rrc10\", \"rrc11\", \"rrc12\", \"rrc10\", \"rrc11\",\n",
    "                      \"rrc12\", \"rrc13\", \"rrc14\", \"rrc15\", \"rrc16\", \"rrc17\", \"rrc18\", \"rrc19\", \"rrc20\", \"rrc21\", \"rrc22\", \"rrc23\",\n",
    "                      \"rrc24\", \"rrc25\", \"rrc26\"]\n",
    "random.choices(rcc_collector_lists, k=1)"
   ]
  },
  {
   "cell_type": "code",
   "execution_count": 10,
   "id": "cd70dc7c-ff03-47ae-93fa-6ae47fc2f8a6",
   "metadata": {},
   "outputs": [
    {
     "data": {
      "text/plain": [
       "{1: 2, 3: 4}"
      ]
     },
     "execution_count": 10,
     "metadata": {},
     "output_type": "execute_result"
    }
   ],
   "source": [
    "a = {1:2, 3:4, 5:6}\n",
    "b = [1, 3]\n",
    "c = {i:a[i] for i in b}\n",
    "c"
   ]
  },
  {
   "cell_type": "code",
   "execution_count": 5,
   "id": "c823775e-b79a-4cc1-a70f-7d80a1a57609",
   "metadata": {},
   "outputs": [],
   "source": [
    "class BGP_explaination():\n",
    "    '''\n",
    "    BGP event explaination object.\n",
    "    given detected time, IP/Target AS, extract AS paths from history routing table data, BGP messages before event, BGP messages after event\n",
    "    feed them to llm\n",
    "    '''\n",
    "    def __init__(self, collector_list, model = \"gpt-4o\", project = \"rcc\", save_path = \"e/\", n_collector = 1):\n",
    "        '''\n",
    "        initialize llm, collector_list, collector project\n",
    "        '''\n",
    "        self.llm = openai.OpenAI()\n",
    "        self.collector_list = collector_list\n",
    "        self.model = model\n",
    "        self.project = project\n",
    "        self.save_path = save_path #directory to save files\n",
    "        os.makedirs(save_path, exist_ok=True)\n",
    "        self.n_collector = n_collector\n",
    "\n",
    "    def chat(self, messages, model, n=1):\n",
    "        '''\n",
    "        function to call llm api\n",
    "        '''\n",
    "        response = self.llm.chat.completions.create(\n",
    "                            model=model,\n",
    "                            messages=messages,\n",
    "                            n=n\n",
    "                            )\n",
    "        text_response = [response.choices[i].message.content for i in range(n)]\n",
    "        \n",
    "        return text_response\n",
    "\n",
    "    def generate_multi_event(self, data_path):\n",
    "        '''\n",
    "        generate report for each event recorded in data_path\n",
    "        '''\n",
    "        data = pd.read_csv(data_path, na_filter=False)\n",
    "        N = len(data)\n",
    "        for i in trange(10,N):\n",
    "            event = data.iloc[i]\n",
    "            start_time = event['Start'].split(';')[0] if event['Start'] else None\n",
    "            IP = event['IP'].split(';')[0] if event['IP'] else None\n",
    "            AS = event['AS'].split(';')[0] if event['AS'] else None\n",
    "            end_time = event['End'].split(';')[0] if event['End'] else None\n",
    "            self.generate_single_event(start_time=start_time, file_save_prefix=str(i)+\"_\", IP=IP, AS=AS, end_time=end_time)\n",
    "        return None\n",
    "            \n",
    "    def generate_single_event(self, start_time, file_save_prefix=\"\", IP=None, AS=None, end_time=None):\n",
    "        '''\n",
    "        generate report for a single event\n",
    "        '''\n",
    "        if IP:\n",
    "            '''if IP is provided'''\n",
    "            history_rib, rib_before_incident, rib_after_incident = self.AS_Path_IP(start_time=start_time, IP_prefix=IP, end_time = end_time)\n",
    "            report = self.generate_report(history_rib=history_rib,\n",
    "                                          rib_before_incident=rib_before_incident,\n",
    "                                          rib_after_incident=rib_after_incident,\n",
    "                                          time=start_time,\n",
    "                                          IP=IP)\n",
    "        elif AS:\n",
    "            '''IP not available but target AS available'''\n",
    "            history_rib, rib_before_incident, rib_after_incident = self.AS_Path_AS(start_time=start_time, target_AS=AS, end_time = end_time)\n",
    "            report = self.generate_report(history_rib=history_rib,\n",
    "                                          rib_before_incident=rib_before_incident,\n",
    "                                          rib_after_incident=rib_after_incident,\n",
    "                                          time=start_time,\n",
    "                                          AS=AS)\n",
    "        else:\n",
    "            raise(\"Must provide IP or AS\")\n",
    "        ###save routing table and report\n",
    "        with open(self.save_path + file_save_prefix + \"history_rib.json\", \"w\") as f:\n",
    "            json.dump(history_rib, f)\n",
    "        with open(self.save_path + file_save_prefix + \"before_event_rib.json\", \"w\") as f:\n",
    "            json.dump(rib_before_incident, f)\n",
    "        with open(self.save_path + file_save_prefix + \"after_event_rib.json\", \"w\") as f:\n",
    "            json.dump(rib_after_incident, f)\n",
    "        with open(self.save_path + file_save_prefix + \"report.txt\", \"w\") as f:\n",
    "            json.dump(report, f)\n",
    "            \n",
    "        return None\n",
    "\n",
    "    def AS_Path_IP(self, start_time, IP_prefix, end_time = None):\n",
    "        '''\n",
    "        provide target IP and time extract AS paths, end time is optional\n",
    "        '''\n",
    "        # convert start time to datetime object\n",
    "        start = datetime.strptime(start_time, '%Y-%m-%d %H:%M:%S')\n",
    "        #convert end time to datetime object\n",
    "        if end_time: #if end time is provided\n",
    "            end = datetime.strptime(end_time, '%Y-%m-%d %H:%M:%S')\n",
    "        else: #default 1 day after start\n",
    "            end = start + timedelta(days=1)\n",
    "\n",
    "\n",
    "        ###extract history routing table\n",
    "        history_rib = defaultdict(dict)\n",
    "        for collector in tqdm(self.collector_list):\n",
    "            #rcc collects rib every 8 hours, we pick the 2nd last checkpoint\n",
    "            stream = pybgpstream.BGPStream(\n",
    "                from_time=str(start-timedelta(hours=16)), until_time=str(start-timedelta(hours=8)),\n",
    "                collectors=[collector],\n",
    "                record_type=\"ribs\",\n",
    "                filter = f\"prefix any {IP_prefix}\"  #collect as path to ip prefix that are less or more specific to the target IP prefix\n",
    "            )\n",
    "            as_path = defaultdict(dict)\n",
    "\n",
    "            for rec in tqdm(stream.records()):\n",
    "                for ele in rec:\n",
    "                    # Get the peer ASn\n",
    "                    peer = str(ele.peer_asn)\n",
    "                    hops = [k for k, g in groupby(ele.fields['as-path'].split(\" \"))]\n",
    "                    #print(ele)\n",
    "                    if str(ele.type) == \"R\":\n",
    "                        if 'as-path' and \"prefix\" in ele.fields:\n",
    "                            IP = ele.fields[\"prefix\"]\n",
    "                            as_path[IP][peer] = hops\n",
    "            history_rib[collector] = as_path\n",
    "\n",
    "        #randomly select a few collector\n",
    "        chosed_collectors = random.choices(self.collector_list, k=self.n_collector)\n",
    "        ###extract AS-paths before event\n",
    "        rib_before_incident = copy.deepcopy(history_rib)\n",
    "        rib_before_incident = {i:rib_before_incident[i] for i in chosed_collectors}\n",
    "        types = {\"A\", \"W\"}\n",
    "        for collector in tqdm(chosed_collectors):\n",
    "            stream1 = pybgpstream.BGPStream(\n",
    "                from_time=str(start-timedelta(hours=8)), until_time=str(start-timedelta(minutes=10)),\n",
    "                collectors=[collector],\n",
    "                record_type=\"updates\",\n",
    "                filter = f\"prefix any {IP_prefix}\"\n",
    "            )\n",
    "            \n",
    "            for rec in tqdm(stream1.records()):\n",
    "                for elem in rec:\n",
    "                    if (str(elem.type) in types) and \"prefix\" in elem.fields:\n",
    "                        IP = str(elem.fields[\"prefix\"])\n",
    "                        if str(elem.type) == \"A\" and \"as-path\" in elem.fields:\n",
    "                            peer = str(elem.peer_asn)\n",
    "                            hops = [k for k, g in groupby(elem.fields['as-path'].split(\" \"))]\n",
    "                            rib_before_incident[collector][IP][peer] = hops\n",
    "                            \n",
    "                        if str(elem.type) == \"W\":\n",
    "                            peer = str(elem.peer_asn)\n",
    "                            rib_before_incident[collector][IP][peer] = []\n",
    "\n",
    "        ###extract AS-paths after event\n",
    "        rib_after_incident = copy.deepcopy(rib_before_incident)\n",
    "        #collect information until 1min before event end or 10min after event start\n",
    "        until = min(end-timedelta(minutes=1), start+timedelta(minutes=10))\n",
    "        for collector in tqdm(chosed_collectors):\n",
    "            stream1 = pybgpstream.BGPStream(\n",
    "                from_time=str(start-timedelta(minutes=10)), until_time=str(until),\n",
    "                collectors=[collector],\n",
    "                record_type=\"updates\",\n",
    "                filter = f\"prefix any {IP_prefix}\"\n",
    "            )\n",
    "            \n",
    "            for rec in tqdm(stream1.records()):\n",
    "                for elem in rec:\n",
    "                    if (str(elem.type) in types) and \"prefix\" in elem.fields:\n",
    "                        IP = str(elem.fields[\"prefix\"])\n",
    "                        if str(elem.type) == \"A\" and \"as-path\" in elem.fields:\n",
    "                            peer = str(elem.peer_asn)\n",
    "                            hops = [k for k, g in groupby(elem.fields['as-path'].split(\" \"))]\n",
    "                            rib_after_incident[collector][IP][peer] = hops\n",
    "                            \n",
    "                        if str(elem.type) == \"W\":\n",
    "                            peer = str(elem.peer_asn)\n",
    "                            rib_after_incident[collector][IP][peer] = []\n",
    "\n",
    "        return history_rib, rib_before_incident, rib_after_incident\n",
    "\n",
    "    def AS_Path_AS(self, start_time, target_AS, end_time = None):\n",
    "        '''\n",
    "        Missing IP but provide target AS number and time to extract AS paths, end time is optional\n",
    "        '''\n",
    "        # convert start time to datetime object\n",
    "        start = datetime.strptime(start_time, '%Y-%m-%d %H:%M:%S')\n",
    "        #convert end time to datetime object\n",
    "        if end_time: #if end time is provided\n",
    "            end = datetime.strptime(end_time, '%Y-%m-%d %H:%M:%S')\n",
    "        else: #default 1 day after start\n",
    "            end = start + timedelta(days=1)\n",
    "\n",
    "\n",
    "        ###extract history routing table\n",
    "        history_rib = defaultdict(dict)\n",
    "        target_IP_prefix = set([])\n",
    "        for collector in tqdm(self.collector_list):\n",
    "            #rcc collects rib every 8 hours, we pick the 2nd last checkpoint\n",
    "            stream = pybgpstream.BGPStream(\n",
    "                from_time=str(start-timedelta(hours=16)), until_time=str(start-timedelta(hours=8)),\n",
    "                collectors=[collector],\n",
    "                record_type=\"ribs\",\n",
    "                filter = f'aspath \"{target_AS}$\"' #collect all as path to target_AS\n",
    "            )\n",
    "            as_path = defaultdict(dict)\n",
    "\n",
    "            for rec in tqdm(stream.records()):\n",
    "                for ele in rec:\n",
    "                    # Get the peer ASn\n",
    "                    peer = str(ele.peer_asn)\n",
    "                    hops = [k for k, g in groupby(ele.fields['as-path'].split(\" \"))]\n",
    "                    #print(ele)\n",
    "                    if str(ele.type) == \"R\":\n",
    "                        if 'as-path' and \"prefix\" in ele.fields:\n",
    "                            IP = ele.fields[\"prefix\"]\n",
    "                            target_IP_prefix.add(IP)\n",
    "                            as_path[IP][peer] = hops\n",
    "            history_rib[collector] = as_path\n",
    "\n",
    "        #randomly select a few collector\n",
    "        chosed_collectors = random.choices(self.collector_list, k=self.n_collector)\n",
    "        ###extract AS-paths before event\n",
    "        rib_before_incident = copy.deepcopy(history_rib)\n",
    "        rib_before_incident = {i:rib_before_incident[i] for i in chosed_collectors}\n",
    "        types = {\"A\", \"W\"}\n",
    "        #construct filter by target IP prefix\n",
    "        filter_string = f\"prefix any\"\n",
    "        for ip_p in target_IP_prefix:\n",
    "            filter_string += f\" {ip_p}\" \n",
    "        for collector in tqdm(chosed_collectors):\n",
    "            stream1 = pybgpstream.BGPStream(\n",
    "                from_time=str(start-timedelta(hours=8)), until_time=str(start-timedelta(minutes=10)),\n",
    "                collectors=[collector],\n",
    "                record_type=\"updates\",\n",
    "                filter = filter_string\n",
    "            )\n",
    "            \n",
    "            for rec in tqdm(stream1.records()):\n",
    "                for elem in rec:\n",
    "                    if (str(elem.type) in types) and \"prefix\" in elem.fields:\n",
    "                        IP = str(elem.fields[\"prefix\"])\n",
    "                        if str(elem.type) == \"A\" and \"as-path\" in elem.fields:\n",
    "                            peer = str(elem.peer_asn)\n",
    "                            hops = [k for k, g in groupby(elem.fields['as-path'].split(\" \"))]\n",
    "                            rib_before_incident[collector][IP][peer] = hops\n",
    "                            \n",
    "                        if str(elem.type) == \"W\":\n",
    "                            peer = str(elem.peer_asn)\n",
    "                            rib_before_incident[collector][IP][peer] = []\n",
    "\n",
    "        ###extract AS-paths after event\n",
    "        rib_after_incident = copy.deepcopy(rib_before_incident)\n",
    "        #collect information until 1min before event end or 10min after event start\n",
    "        until = min(end-timedelta(minutes=1), start+timedelta(minutes=10))\n",
    "        for collector in tqdm(chosed_collectors):\n",
    "            stream1 = pybgpstream.BGPStream(\n",
    "                from_time=str(start-timedelta(minutes=10)), until_time=str(until),\n",
    "                collectors=[collector],\n",
    "                record_type=\"updates\",\n",
    "                filter = filter_string\n",
    "            )\n",
    "            \n",
    "            for rec in tqdm(stream1.records()):\n",
    "                for elem in rec:\n",
    "                    if (str(elem.type) in types) and \"prefix\" in elem.fields:\n",
    "                        IP = str(elem.fields[\"prefix\"])\n",
    "                        if str(elem.type) == \"A\" and \"as-path\" in elem.fields:\n",
    "                            peer = str(elem.peer_asn)\n",
    "                            hops = [k for k, g in groupby(elem.fields['as-path'].split(\" \"))]\n",
    "                            rib_after_incident[collector][IP][peer] = hops\n",
    "                            \n",
    "                        if str(elem.type) == \"W\":\n",
    "                            peer = str(elem.peer_asn)\n",
    "                            rib_after_incident[collector][IP][peer] = []\n",
    "\n",
    "        return history_rib, rib_before_incident, rib_after_incident\n",
    "\n",
    "    def generate_report(self, history_rib, rib_before_incident, rib_after_incident, time, IP=\"unknown\", AS=\"unkonwn\"):\n",
    "        '''\n",
    "        provide history routing table, routing table before event, routing table after event, event time, IP or AS (must provide one)\n",
    "        generate LLM explaination and report\n",
    "        '''\n",
    "        if IP != \"unknown\":\n",
    "            #IP prefix available\n",
    "            system_prompt = \"You are an expert in BGP network anomaly detection and explaination.\\\n",
    "                            Now we detect there is an anomaly event that happened at a certain time, \\\n",
    "                            but we don't know what happened exactly and need your help. \\\n",
    "                            We will provide you the AS pathes collected by many collectors to the target IP prefix\\\n",
    "                            before the anomaly event and after. We will also provide AS pathes to this IP prefix in the history. \\\n",
    "                            Also we will provide you the time.You need to explain what happened and what kind of anomaly event this is. \\\n",
    "                            Then you need to write a report about this event, including time, anomaly type, \\\n",
    "                            related AS number and IP address. If the data provided is not enough for you to write the report, please \\\n",
    "                            explain what data is missing.\"\n",
    "            user_prompt = f\"{IP} is the IP prefix we detected has a problem. {time} is the time that we detected the event start.\\\n",
    "                            Here are the paths to this IP prefix in history: {history_rib} \\n \\\n",
    "                            Here are the paths to this IP prefix before the event: {rib_before_incident}. \\n \\\n",
    "                            Here are the paths after the event: {rib_after_incident}. \\n \\\n",
    "                            All pathes are stored in a dictironary in a form of \\\n",
    "                            {{collector name: {{IP prefix: {{peer: [AS path from peer to IP prefix]}}}}}}. Now, write the report.\"\n",
    "            message = [{\"role\":\"system\", \"content\":system_prompt}] + \\\n",
    "                        [{\"role\":\"user\", \"content\":user_prompt}]\n",
    "            output_report = self.chat(messages=message, model=self.model)[0]\n",
    "        elif AS != \"unknown\":\n",
    "            #IP prefix not available but AS number is available\n",
    "            system_prompt = \"You are an expert in BGP network anomaly detection and explaination.\\\n",
    "                            Now we detect there is an anomaly event that happened at a certain time, \\\n",
    "                            but we don't know what happened exactly and need your help. \\\n",
    "                            We will provide you the AS pathes collected by many collectors to the IP prefixes of a target AS\\\n",
    "                            before the anomaly event and after. We will also provide AS pathes to those IP prefixes in the history. \\\n",
    "                            Also we will provide you the time. You need to explain what happened and what kind of anomaly event this is. \\\n",
    "                            Then you need to write a report about this event, including time, anomaly type, \\\n",
    "                            related AS number and IP address. If the data provided is not enough for you to write the report, please \\\n",
    "                            explain what data is missing.\"\n",
    "            user_prompt = f\"AS{AS} is the autonomous system we detected has a problem. {time} is the time that we detected the event start.\\\n",
    "                            Here are the paths to this AS in history: {history_rib} \\n \\\n",
    "                            Here are the paths to this AS before the event: {rib_before_incident}. \\n \\\n",
    "                            Here are the paths after the event: {rib_after_incident}. \\n \\\n",
    "                            All pathes are stored in a dictironary in a form of \\\n",
    "                            {{collector name: {{IP prefix: {{peer: [AS path from peer to IP prefix]}}}}}}. Now, write the report.\"\n",
    "            message = [{\"role\":\"system\", \"content\":system_prompt}] + \\\n",
    "                        [{\"role\":\"user\", \"content\":user_prompt}]\n",
    "            output_report = self.chat(messages=message, model=self.model)[0]\n",
    "        else:\n",
    "            raise(\"Must provide at least one IP or AS!\")\n",
    "        return output_report"
   ]
  },
  {
   "cell_type": "code",
   "execution_count": 6,
   "id": "19d57ab9-fb7a-40ca-97ee-e4af9730964a",
   "metadata": {
    "scrolled": true
   },
   "outputs": [
    {
     "data": {
      "application/vnd.jupyter.widget-view+json": {
       "model_id": "e60c5fda95df4a84a936130f08a31cba",
       "version_major": 2,
       "version_minor": 0
      },
      "text/plain": [
       "  0%|          | 0/2 [00:00<?, ?it/s]"
      ]
     },
     "metadata": {},
     "output_type": "display_data"
    },
    {
     "data": {
      "application/vnd.jupyter.widget-view+json": {
       "model_id": "38aed594e603407e8fcc41cf7a6b5d56",
       "version_major": 2,
       "version_minor": 0
      },
      "text/plain": [
       "  0%|          | 0/27 [00:00<?, ?it/s]"
      ]
     },
     "metadata": {},
     "output_type": "display_data"
    },
    {
     "data": {
      "application/vnd.jupyter.widget-view+json": {
       "model_id": "a7e5e5bda45444158a12d73b083b6ce1",
       "version_major": 2,
       "version_minor": 0
      },
      "text/plain": [
       "0it [00:00, ?it/s]"
      ]
     },
     "metadata": {},
     "output_type": "display_data"
    },
    {
     "data": {
      "application/vnd.jupyter.widget-view+json": {
       "model_id": "26ecb6a228c946fcb3e72eb6bc0f39e3",
       "version_major": 2,
       "version_minor": 0
      },
      "text/plain": [
       "0it [00:00, ?it/s]"
      ]
     },
     "metadata": {},
     "output_type": "display_data"
    },
    {
     "data": {
      "application/vnd.jupyter.widget-view+json": {
       "model_id": "e46db0e752644da2a6668a4313b8975c",
       "version_major": 2,
       "version_minor": 0
      },
      "text/plain": [
       "0it [00:00, ?it/s]"
      ]
     },
     "metadata": {},
     "output_type": "display_data"
    },
    {
     "data": {
      "application/vnd.jupyter.widget-view+json": {
       "model_id": "b912d1b694c64977bd2ae43b631fb479",
       "version_major": 2,
       "version_minor": 0
      },
      "text/plain": [
       "0it [00:00, ?it/s]"
      ]
     },
     "metadata": {},
     "output_type": "display_data"
    },
    {
     "data": {
      "application/vnd.jupyter.widget-view+json": {
       "model_id": "d6f1437d1fd742389475fb4588878396",
       "version_major": 2,
       "version_minor": 0
      },
      "text/plain": [
       "0it [00:00, ?it/s]"
      ]
     },
     "metadata": {},
     "output_type": "display_data"
    },
    {
     "data": {
      "application/vnd.jupyter.widget-view+json": {
       "model_id": "558c3d165ba84c5ab2d2f7c3189336ca",
       "version_major": 2,
       "version_minor": 0
      },
      "text/plain": [
       "0it [00:00, ?it/s]"
      ]
     },
     "metadata": {},
     "output_type": "display_data"
    },
    {
     "data": {
      "application/vnd.jupyter.widget-view+json": {
       "model_id": "fc3b415811844f8c8bf3bc2d124f1cbc",
       "version_major": 2,
       "version_minor": 0
      },
      "text/plain": [
       "0it [00:00, ?it/s]"
      ]
     },
     "metadata": {},
     "output_type": "display_data"
    },
    {
     "data": {
      "application/vnd.jupyter.widget-view+json": {
       "model_id": "29a2bcc78abd49108e95d83d88d901ab",
       "version_major": 2,
       "version_minor": 0
      },
      "text/plain": [
       "0it [00:00, ?it/s]"
      ]
     },
     "metadata": {},
     "output_type": "display_data"
    },
    {
     "data": {
      "application/vnd.jupyter.widget-view+json": {
       "model_id": "02884797c0f245499cc0123304f8c7ae",
       "version_major": 2,
       "version_minor": 0
      },
      "text/plain": [
       "0it [00:00, ?it/s]"
      ]
     },
     "metadata": {},
     "output_type": "display_data"
    },
    {
     "data": {
      "application/vnd.jupyter.widget-view+json": {
       "model_id": "24d670fe1f104841b13a35e78a777132",
       "version_major": 2,
       "version_minor": 0
      },
      "text/plain": [
       "0it [00:00, ?it/s]"
      ]
     },
     "metadata": {},
     "output_type": "display_data"
    },
    {
     "data": {
      "application/vnd.jupyter.widget-view+json": {
       "model_id": "190401f6b8b04eed88ebde765f35d345",
       "version_major": 2,
       "version_minor": 0
      },
      "text/plain": [
       "0it [00:00, ?it/s]"
      ]
     },
     "metadata": {},
     "output_type": "display_data"
    },
    {
     "data": {
      "application/vnd.jupyter.widget-view+json": {
       "model_id": "fc2fc2ea4a9c493fa4c0c1228bb4f1e4",
       "version_major": 2,
       "version_minor": 0
      },
      "text/plain": [
       "0it [00:00, ?it/s]"
      ]
     },
     "metadata": {},
     "output_type": "display_data"
    },
    {
     "data": {
      "application/vnd.jupyter.widget-view+json": {
       "model_id": "c34afd324dcc4accbb9ad2c53e786a5f",
       "version_major": 2,
       "version_minor": 0
      },
      "text/plain": [
       "0it [00:00, ?it/s]"
      ]
     },
     "metadata": {},
     "output_type": "display_data"
    },
    {
     "data": {
      "application/vnd.jupyter.widget-view+json": {
       "model_id": "bcc6dffbf9f442dca72f5895264671ae",
       "version_major": 2,
       "version_minor": 0
      },
      "text/plain": [
       "0it [00:00, ?it/s]"
      ]
     },
     "metadata": {},
     "output_type": "display_data"
    },
    {
     "data": {
      "application/vnd.jupyter.widget-view+json": {
       "model_id": "0c5607aaed6d4537a04fada7dc8a08b4",
       "version_major": 2,
       "version_minor": 0
      },
      "text/plain": [
       "0it [00:00, ?it/s]"
      ]
     },
     "metadata": {},
     "output_type": "display_data"
    },
    {
     "data": {
      "application/vnd.jupyter.widget-view+json": {
       "model_id": "a2d79ceb46cd410b9aa13f65afa42c5d",
       "version_major": 2,
       "version_minor": 0
      },
      "text/plain": [
       "0it [00:00, ?it/s]"
      ]
     },
     "metadata": {},
     "output_type": "display_data"
    },
    {
     "data": {
      "application/vnd.jupyter.widget-view+json": {
       "model_id": "0bb075cb8190403cac769fd698150922",
       "version_major": 2,
       "version_minor": 0
      },
      "text/plain": [
       "0it [00:00, ?it/s]"
      ]
     },
     "metadata": {},
     "output_type": "display_data"
    },
    {
     "data": {
      "application/vnd.jupyter.widget-view+json": {
       "model_id": "49519ab5b5124b6786e40edbe4f092e0",
       "version_major": 2,
       "version_minor": 0
      },
      "text/plain": [
       "0it [00:00, ?it/s]"
      ]
     },
     "metadata": {},
     "output_type": "display_data"
    },
    {
     "data": {
      "application/vnd.jupyter.widget-view+json": {
       "model_id": "262051884f7047c1b9562658aedeed20",
       "version_major": 2,
       "version_minor": 0
      },
      "text/plain": [
       "0it [00:00, ?it/s]"
      ]
     },
     "metadata": {},
     "output_type": "display_data"
    },
    {
     "data": {
      "application/vnd.jupyter.widget-view+json": {
       "model_id": "7444ce7ac21e49fd8122671e3466cd8c",
       "version_major": 2,
       "version_minor": 0
      },
      "text/plain": [
       "0it [00:00, ?it/s]"
      ]
     },
     "metadata": {},
     "output_type": "display_data"
    },
    {
     "data": {
      "application/vnd.jupyter.widget-view+json": {
       "model_id": "5f8de36d8918423e945e151f7c19c2d6",
       "version_major": 2,
       "version_minor": 0
      },
      "text/plain": [
       "0it [00:00, ?it/s]"
      ]
     },
     "metadata": {},
     "output_type": "display_data"
    },
    {
     "data": {
      "application/vnd.jupyter.widget-view+json": {
       "model_id": "12c849afa15842f98467c72c02c528d4",
       "version_major": 2,
       "version_minor": 0
      },
      "text/plain": [
       "0it [00:00, ?it/s]"
      ]
     },
     "metadata": {},
     "output_type": "display_data"
    },
    {
     "data": {
      "application/vnd.jupyter.widget-view+json": {
       "model_id": "6b5a9e6813c7409aab6d7d68901e57c1",
       "version_major": 2,
       "version_minor": 0
      },
      "text/plain": [
       "0it [00:00, ?it/s]"
      ]
     },
     "metadata": {},
     "output_type": "display_data"
    },
    {
     "data": {
      "application/vnd.jupyter.widget-view+json": {
       "model_id": "4326ef37fc9a490eb399d1abe3d3c985",
       "version_major": 2,
       "version_minor": 0
      },
      "text/plain": [
       "0it [00:00, ?it/s]"
      ]
     },
     "metadata": {},
     "output_type": "display_data"
    },
    {
     "data": {
      "application/vnd.jupyter.widget-view+json": {
       "model_id": "1612577fefef4e8c9e057bc814767e45",
       "version_major": 2,
       "version_minor": 0
      },
      "text/plain": [
       "0it [00:00, ?it/s]"
      ]
     },
     "metadata": {},
     "output_type": "display_data"
    },
    {
     "data": {
      "application/vnd.jupyter.widget-view+json": {
       "model_id": "893ef906895649abbd2f8c9da0cd14d8",
       "version_major": 2,
       "version_minor": 0
      },
      "text/plain": [
       "0it [00:00, ?it/s]"
      ]
     },
     "metadata": {},
     "output_type": "display_data"
    },
    {
     "data": {
      "application/vnd.jupyter.widget-view+json": {
       "model_id": "73605264b194436ca8105d5827e7bdb0",
       "version_major": 2,
       "version_minor": 0
      },
      "text/plain": [
       "0it [00:00, ?it/s]"
      ]
     },
     "metadata": {},
     "output_type": "display_data"
    },
    {
     "data": {
      "application/vnd.jupyter.widget-view+json": {
       "model_id": "ac7d84d3e42d46f0877dfb72ef95ed38",
       "version_major": 2,
       "version_minor": 0
      },
      "text/plain": [
       "  0%|          | 0/1 [00:00<?, ?it/s]"
      ]
     },
     "metadata": {},
     "output_type": "display_data"
    },
    {
     "data": {
      "application/vnd.jupyter.widget-view+json": {
       "model_id": "33f6f98b313840acbddbaea10aa49840",
       "version_major": 2,
       "version_minor": 0
      },
      "text/plain": [
       "0it [00:00, ?it/s]"
      ]
     },
     "metadata": {},
     "output_type": "display_data"
    },
    {
     "data": {
      "application/vnd.jupyter.widget-view+json": {
       "model_id": "ac148ee2e2524cffa920d789b1606fac",
       "version_major": 2,
       "version_minor": 0
      },
      "text/plain": [
       "  0%|          | 0/1 [00:00<?, ?it/s]"
      ]
     },
     "metadata": {},
     "output_type": "display_data"
    },
    {
     "data": {
      "application/vnd.jupyter.widget-view+json": {
       "model_id": "25f4df1802994cb586e02aa35bbc9aea",
       "version_major": 2,
       "version_minor": 0
      },
      "text/plain": [
       "0it [00:00, ?it/s]"
      ]
     },
     "metadata": {},
     "output_type": "display_data"
    },
    {
     "ename": "TypeError",
     "evalue": "exceptions must derive from BaseException",
     "output_type": "error",
     "traceback": [
      "\u001b[0;31m---------------------------------------------------------------------------\u001b[0m",
      "\u001b[0;31mTypeError\u001b[0m                                 Traceback (most recent call last)",
      "Cell \u001b[0;32mIn[6], line 7\u001b[0m\n\u001b[1;32m      3\u001b[0m rcc_collector_lists \u001b[38;5;241m=\u001b[39m [\u001b[38;5;124m\"\u001b[39m\u001b[38;5;124mrrc00\u001b[39m\u001b[38;5;124m\"\u001b[39m, \u001b[38;5;124m\"\u001b[39m\u001b[38;5;124mrrc01\u001b[39m\u001b[38;5;124m\"\u001b[39m, \u001b[38;5;124m\"\u001b[39m\u001b[38;5;124mrrc03\u001b[39m\u001b[38;5;124m\"\u001b[39m, \u001b[38;5;124m\"\u001b[39m\u001b[38;5;124mrrc04\u001b[39m\u001b[38;5;124m\"\u001b[39m, \u001b[38;5;124m\"\u001b[39m\u001b[38;5;124mrrc05\u001b[39m\u001b[38;5;124m\"\u001b[39m, \u001b[38;5;124m\"\u001b[39m\u001b[38;5;124mrrc06\u001b[39m\u001b[38;5;124m\"\u001b[39m, \u001b[38;5;124m\"\u001b[39m\u001b[38;5;124mrrc07\u001b[39m\u001b[38;5;124m\"\u001b[39m, \u001b[38;5;124m\"\u001b[39m\u001b[38;5;124mrrc10\u001b[39m\u001b[38;5;124m\"\u001b[39m, \u001b[38;5;124m\"\u001b[39m\u001b[38;5;124mrrc11\u001b[39m\u001b[38;5;124m\"\u001b[39m, \u001b[38;5;124m\"\u001b[39m\u001b[38;5;124mrrc12\u001b[39m\u001b[38;5;124m\"\u001b[39m, \u001b[38;5;124m\"\u001b[39m\u001b[38;5;124mrrc10\u001b[39m\u001b[38;5;124m\"\u001b[39m, \u001b[38;5;124m\"\u001b[39m\u001b[38;5;124mrrc11\u001b[39m\u001b[38;5;124m\"\u001b[39m,\n\u001b[1;32m      4\u001b[0m                       \u001b[38;5;124m\"\u001b[39m\u001b[38;5;124mrrc12\u001b[39m\u001b[38;5;124m\"\u001b[39m, \u001b[38;5;124m\"\u001b[39m\u001b[38;5;124mrrc13\u001b[39m\u001b[38;5;124m\"\u001b[39m, \u001b[38;5;124m\"\u001b[39m\u001b[38;5;124mrrc14\u001b[39m\u001b[38;5;124m\"\u001b[39m, \u001b[38;5;124m\"\u001b[39m\u001b[38;5;124mrrc15\u001b[39m\u001b[38;5;124m\"\u001b[39m, \u001b[38;5;124m\"\u001b[39m\u001b[38;5;124mrrc16\u001b[39m\u001b[38;5;124m\"\u001b[39m, \u001b[38;5;124m\"\u001b[39m\u001b[38;5;124mrrc17\u001b[39m\u001b[38;5;124m\"\u001b[39m, \u001b[38;5;124m\"\u001b[39m\u001b[38;5;124mrrc18\u001b[39m\u001b[38;5;124m\"\u001b[39m, \u001b[38;5;124m\"\u001b[39m\u001b[38;5;124mrrc19\u001b[39m\u001b[38;5;124m\"\u001b[39m, \u001b[38;5;124m\"\u001b[39m\u001b[38;5;124mrrc20\u001b[39m\u001b[38;5;124m\"\u001b[39m, \u001b[38;5;124m\"\u001b[39m\u001b[38;5;124mrrc21\u001b[39m\u001b[38;5;124m\"\u001b[39m, \u001b[38;5;124m\"\u001b[39m\u001b[38;5;124mrrc22\u001b[39m\u001b[38;5;124m\"\u001b[39m, \u001b[38;5;124m\"\u001b[39m\u001b[38;5;124mrrc23\u001b[39m\u001b[38;5;124m\"\u001b[39m,\n\u001b[1;32m      5\u001b[0m                       \u001b[38;5;124m\"\u001b[39m\u001b[38;5;124mrrc24\u001b[39m\u001b[38;5;124m\"\u001b[39m, \u001b[38;5;124m\"\u001b[39m\u001b[38;5;124mrrc25\u001b[39m\u001b[38;5;124m\"\u001b[39m, \u001b[38;5;124m\"\u001b[39m\u001b[38;5;124mrrc26\u001b[39m\u001b[38;5;124m\"\u001b[39m]\n\u001b[1;32m      6\u001b[0m generator \u001b[38;5;241m=\u001b[39m BGP_explaination(collector_list\u001b[38;5;241m=\u001b[39mrcc_collector_lists, model \u001b[38;5;241m=\u001b[39m \u001b[38;5;124m\"\u001b[39m\u001b[38;5;124mgpt-4o\u001b[39m\u001b[38;5;124m\"\u001b[39m, project \u001b[38;5;241m=\u001b[39m \u001b[38;5;124m\"\u001b[39m\u001b[38;5;124mrcc\u001b[39m\u001b[38;5;124m\"\u001b[39m, save_path \u001b[38;5;241m=\u001b[39m exp_path)\n\u001b[0;32m----> 7\u001b[0m \u001b[43mgenerator\u001b[49m\u001b[38;5;241;43m.\u001b[39;49m\u001b[43mgenerate_multi_event\u001b[49m\u001b[43m(\u001b[49m\u001b[43mdata\u001b[49m\u001b[43m)\u001b[49m\n",
      "Cell \u001b[0;32mIn[5], line 44\u001b[0m, in \u001b[0;36mBGP_explaination.generate_multi_event\u001b[0;34m(self, data_path)\u001b[0m\n\u001b[1;32m     42\u001b[0m     AS \u001b[38;5;241m=\u001b[39m event[\u001b[38;5;124m'\u001b[39m\u001b[38;5;124mAS\u001b[39m\u001b[38;5;124m'\u001b[39m]\u001b[38;5;241m.\u001b[39msplit(\u001b[38;5;124m'\u001b[39m\u001b[38;5;124m;\u001b[39m\u001b[38;5;124m'\u001b[39m)[\u001b[38;5;241m0\u001b[39m] \u001b[38;5;28;01mif\u001b[39;00m event[\u001b[38;5;124m'\u001b[39m\u001b[38;5;124mAS\u001b[39m\u001b[38;5;124m'\u001b[39m] \u001b[38;5;28;01melse\u001b[39;00m \u001b[38;5;28;01mNone\u001b[39;00m\n\u001b[1;32m     43\u001b[0m     end_time \u001b[38;5;241m=\u001b[39m event[\u001b[38;5;124m'\u001b[39m\u001b[38;5;124mEnd\u001b[39m\u001b[38;5;124m'\u001b[39m]\u001b[38;5;241m.\u001b[39msplit(\u001b[38;5;124m'\u001b[39m\u001b[38;5;124m;\u001b[39m\u001b[38;5;124m'\u001b[39m)[\u001b[38;5;241m0\u001b[39m] \u001b[38;5;28;01mif\u001b[39;00m event[\u001b[38;5;124m'\u001b[39m\u001b[38;5;124mEnd\u001b[39m\u001b[38;5;124m'\u001b[39m] \u001b[38;5;28;01melse\u001b[39;00m \u001b[38;5;28;01mNone\u001b[39;00m\n\u001b[0;32m---> 44\u001b[0m     \u001b[38;5;28;43mself\u001b[39;49m\u001b[38;5;241;43m.\u001b[39;49m\u001b[43mgenerate_single_event\u001b[49m\u001b[43m(\u001b[49m\u001b[43mstart_time\u001b[49m\u001b[38;5;241;43m=\u001b[39;49m\u001b[43mstart_time\u001b[49m\u001b[43m,\u001b[49m\u001b[43m \u001b[49m\u001b[43mfile_save_prefix\u001b[49m\u001b[38;5;241;43m=\u001b[39;49m\u001b[38;5;28;43mstr\u001b[39;49m\u001b[43m(\u001b[49m\u001b[43mi\u001b[49m\u001b[43m)\u001b[49m\u001b[38;5;241;43m+\u001b[39;49m\u001b[38;5;124;43m\"\u001b[39;49m\u001b[38;5;124;43m_\u001b[39;49m\u001b[38;5;124;43m\"\u001b[39;49m\u001b[43m,\u001b[49m\u001b[43m \u001b[49m\u001b[43mIP\u001b[49m\u001b[38;5;241;43m=\u001b[39;49m\u001b[43mIP\u001b[49m\u001b[43m,\u001b[49m\u001b[43m \u001b[49m\u001b[43mAS\u001b[49m\u001b[38;5;241;43m=\u001b[39;49m\u001b[43mAS\u001b[49m\u001b[43m,\u001b[49m\u001b[43m \u001b[49m\u001b[43mend_time\u001b[49m\u001b[38;5;241;43m=\u001b[39;49m\u001b[43mend_time\u001b[49m\u001b[43m)\u001b[49m\n\u001b[1;32m     45\u001b[0m \u001b[38;5;28;01mreturn\u001b[39;00m \u001b[38;5;28;01mNone\u001b[39;00m\n",
      "Cell \u001b[0;32mIn[5], line 68\u001b[0m, in \u001b[0;36mBGP_explaination.generate_single_event\u001b[0;34m(self, start_time, file_save_prefix, IP, AS, end_time)\u001b[0m\n\u001b[1;32m     62\u001b[0m     report \u001b[38;5;241m=\u001b[39m \u001b[38;5;28mself\u001b[39m\u001b[38;5;241m.\u001b[39mgenerate_report(history_rib\u001b[38;5;241m=\u001b[39mhistory_rib,\n\u001b[1;32m     63\u001b[0m                                   rib_before_incident\u001b[38;5;241m=\u001b[39mrib_before_incident,\n\u001b[1;32m     64\u001b[0m                                   rib_after_incident\u001b[38;5;241m=\u001b[39mrib_after_incident,\n\u001b[1;32m     65\u001b[0m                                   time\u001b[38;5;241m=\u001b[39mstart_time,\n\u001b[1;32m     66\u001b[0m                                   AS\u001b[38;5;241m=\u001b[39mAS)\n\u001b[1;32m     67\u001b[0m \u001b[38;5;28;01melse\u001b[39;00m:\n\u001b[0;32m---> 68\u001b[0m     \u001b[38;5;28;01mraise\u001b[39;00m(\u001b[38;5;124m\"\u001b[39m\u001b[38;5;124mMust provide IP or AS\u001b[39m\u001b[38;5;124m\"\u001b[39m)\n\u001b[1;32m     69\u001b[0m \u001b[38;5;66;03m###save routing table and report\u001b[39;00m\n\u001b[1;32m     70\u001b[0m \u001b[38;5;28;01mwith\u001b[39;00m \u001b[38;5;28mopen\u001b[39m(\u001b[38;5;28mself\u001b[39m\u001b[38;5;241m.\u001b[39msave_path \u001b[38;5;241m+\u001b[39m file_save_prefix \u001b[38;5;241m+\u001b[39m \u001b[38;5;124m\"\u001b[39m\u001b[38;5;124mhistory_rib.json\u001b[39m\u001b[38;5;124m\"\u001b[39m, \u001b[38;5;124m\"\u001b[39m\u001b[38;5;124mw\u001b[39m\u001b[38;5;124m\"\u001b[39m) \u001b[38;5;28;01mas\u001b[39;00m f:\n",
      "\u001b[0;31mTypeError\u001b[0m: exceptions must derive from BaseException"
     ]
    }
   ],
   "source": [
    "data = 'Data/BGP_explain_data.csv'\n",
    "exp_path = \"e_2/\"\n",
    "rcc_collector_lists = [\"rrc00\", \"rrc01\", \"rrc03\", \"rrc04\", \"rrc05\", \"rrc06\", \"rrc07\", \"rrc10\", \"rrc11\", \"rrc12\", \"rrc10\", \"rrc11\",\n",
    "                      \"rrc12\", \"rrc13\", \"rrc14\", \"rrc15\", \"rrc16\", \"rrc17\", \"rrc18\", \"rrc19\", \"rrc20\", \"rrc21\", \"rrc22\", \"rrc23\",\n",
    "                      \"rrc24\", \"rrc25\", \"rrc26\"]\n",
    "generator = BGP_explaination(collector_list=rcc_collector_lists, model = \"gpt-4o\", project = \"rcc\", save_path = exp_path)\n",
    "generator.generate_multi_event(data)"
   ]
  }
 ],
 "metadata": {
  "kernelspec": {
   "display_name": "Python 3 (ipykernel)",
   "language": "python",
   "name": "python3"
  },
  "language_info": {
   "codemirror_mode": {
    "name": "ipython",
    "version": 3
   },
   "file_extension": ".py",
   "mimetype": "text/x-python",
   "name": "python",
   "nbconvert_exporter": "python",
   "pygments_lexer": "ipython3",
   "version": "3.8.10"
  }
 },
 "nbformat": 4,
 "nbformat_minor": 5
}
